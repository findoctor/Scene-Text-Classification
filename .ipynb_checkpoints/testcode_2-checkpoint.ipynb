{
 "cells": [
  {
   "cell_type": "code",
   "execution_count": null,
   "metadata": {},
   "outputs": [],
   "source": [
    "from __future__ import print_function\n",
    "from __future__ import division\n",
    "\n",
    "import argparse\n",
    "import random\n",
    "import torch\n",
    "import torch.backends.cudnn as cudnn\n",
    "import torch.optim as optim\n",
    "import torch.utils.data\n",
    "from torch.autograd import Variable\n",
    "import numpy as np\n",
    "#from warpctc_pytorch import CTCLoss\n",
    "import os\n",
    "#import dataset\n",
    "from dataset import lmdbDataset, resizeNormalize, randomSequentialSampler, alignCollate\n",
    "import create_dataset\n",
    "\n",
    "# Create dataset first\n",
    "data_path = 'Data\\IIIT5K\\train'\n",
    "\n",
    "train_dataset = lmdbDataset(root=data_path)  # root to dataset\n",
    "assert train_dataset\n",
    "\n",
    "sampler = randomSequentialSampler(train_dataset, 100)  # batch size = 100\n",
    "\n",
    "train_loader = torch.utils.data.DataLoader(\n",
    "    train_dataset, batch_size=opt.batchSize,\n",
    "    shuffle=True, sampler=sampler,\n",
    "    num_workers=int(opt.workers),\n",
    "    collate_fn=dataset.alignCollate(imgH=opt.imgH, imgW=opt.imgW, keep_ratio=opt.keep_ratio))\n",
    "test_dataset = dataset.lmdbDataset(\n",
    "    root=opt.valroot, transform=dataset.resizeNormalize((100, 32)))"
   ]
  }
 ],
 "metadata": {
  "kernelspec": {
   "display_name": "Python 3",
   "language": "python",
   "name": "python3"
  },
  "language_info": {
   "codemirror_mode": {
    "name": "ipython",
    "version": 3
   },
   "file_extension": ".py",
   "mimetype": "text/x-python",
   "name": "python",
   "nbconvert_exporter": "python",
   "pygments_lexer": "ipython3",
   "version": "3.7.4"
  }
 },
 "nbformat": 4,
 "nbformat_minor": 2
}
